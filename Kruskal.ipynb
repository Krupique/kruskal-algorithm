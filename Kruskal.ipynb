{
  "nbformat": 4,
  "nbformat_minor": 0,
  "metadata": {
    "colab": {
      "name": "Kruskal.ipynb",
      "provenance": [],
      "collapsed_sections": [],
      "toc_visible": true
    },
    "kernelspec": {
      "name": "python3",
      "display_name": "Python 3"
    }
  },
  "cells": [
    {
      "cell_type": "markdown",
      "metadata": {
        "id": "i4VCRRpSP-SV",
        "colab_type": "text"
      },
      "source": [
        "#Algoritmo Kruskal"
      ]
    },
    {
      "cell_type": "markdown",
      "metadata": {
        "id": "0RwCNsmLQfNR",
        "colab_type": "text"
      },
      "source": [
        "##Carregando bibliotecas"
      ]
    },
    {
      "cell_type": "code",
      "metadata": {
        "id": "piIX4jimJp7q",
        "colab_type": "code",
        "colab": {}
      },
      "source": [
        "import csv\n",
        "import copy\n",
        "#import pandas as pd"
      ],
      "execution_count": 0,
      "outputs": []
    },
    {
      "cell_type": "markdown",
      "metadata": {
        "id": "CDaXDtEaPp2-",
        "colab_type": "text"
      },
      "source": [
        "##Carregando e separando os dados"
      ]
    },
    {
      "cell_type": "markdown",
      "metadata": {
        "id": "IgV6b8kGMJrJ",
        "colab_type": "text"
      },
      "source": [
        "Bloco de código que abre o arquivo e separa em h(header) e b(body)."
      ]
    },
    {
      "cell_type": "code",
      "metadata": {
        "id": "nai48pYvJxX3",
        "colab_type": "code",
        "colab": {}
      },
      "source": [
        "with open('teste_custo17.txt') as f:\n",
        "  reader = csv.reader(f)\n",
        "  data = [r for r in reader]\n",
        "  \n",
        "h = data[0]\n",
        "b = data[1:]\n",
        " "
      ],
      "execution_count": 0,
      "outputs": []
    },
    {
      "cell_type": "markdown",
      "metadata": {
        "id": "Tff-ouztMYC6",
        "colab_type": "text"
      },
      "source": [
        "Bloco de código que separa os dados em registros individuais e converte os dados para o tipo numérico."
      ]
    },
    {
      "cell_type": "code",
      "metadata": {
        "id": "UNfcopFPKEy3",
        "colab_type": "code",
        "colab": {}
      },
      "source": [
        "header = h[0].split(' ')\n",
        "body = []\n",
        "for i in range(len(b)):\n",
        "  body.append(b[i][0].split(' '))\n",
        "  \n",
        "for i in range(len(body)):\n",
        "  for j in range(len(body[i])):\n",
        "    body[i][j] = int(body[i][j])"
      ],
      "execution_count": 0,
      "outputs": []
    },
    {
      "cell_type": "markdown",
      "metadata": {
        "id": "g0wYDKgbz-xA",
        "colab_type": "text"
      },
      "source": [
        "##Algoritmo"
      ]
    },
    {
      "cell_type": "markdown",
      "metadata": {
        "id": "VNuTUsiAM_8H",
        "colab_type": "text"
      },
      "source": [
        "Bloco de código que ordena a lista dos maiores pares para os menores.<br>\n",
        "<i>PS. Eu fiz do maior para o menor para não considerar/tratar os valores zeros. Dessa forma ficou mais otimizado.</i>"
      ]
    },
    {
      "cell_type": "code",
      "metadata": {
        "id": "OTEea_3BAT-D",
        "colab_type": "code",
        "colab": {}
      },
      "source": [
        "a = []\n",
        "#t = []\n",
        "maior_valor = { 'linha': -1, 'coluna': -1, 'valor': -9999999999999999999999999}\n",
        "while(maior_valor['valor'] != 0):\n",
        "  maior_valor = { 'linha': -1, 'coluna': -1, 'valor': -9999999999999999999999999}\n",
        "  for i in range(len(body)):\n",
        "    for j in range(len(body[i])):\n",
        "      if body[i][j] > maior_valor['valor']:\n",
        "        maior_valor['linha'] = i\n",
        "        maior_valor['coluna'] = j\n",
        "        maior_valor['valor'] = body[i][j]\n",
        "  if maior_valor['valor'] != 0:\n",
        "    a.append(maior_valor)\n",
        "  body[maior_valor['linha']][maior_valor['coluna']] = 0\n",
        "  body[maior_valor['coluna']][maior_valor['linha']] = 0\n",
        "  "
      ],
      "execution_count": 0,
      "outputs": []
    },
    {
      "cell_type": "markdown",
      "metadata": {
        "id": "_jMsNOD8NoGz",
        "colab_type": "text"
      },
      "source": [
        "Inverte a lista para que fique em ordem crescente."
      ]
    },
    {
      "cell_type": "code",
      "metadata": {
        "id": "q6-2Okt5GnSI",
        "colab_type": "code",
        "colab": {}
      },
      "source": [
        "a.reverse()"
      ],
      "execution_count": 0,
      "outputs": []
    },
    {
      "cell_type": "markdown",
      "metadata": {
        "id": "4Au6ozYnNzof",
        "colab_type": "text"
      },
      "source": [
        "Verifica se todos os elementos da lista estão iguais. <br>\n",
        "<i>\n",
        "  PS. Lembrando que é uma lista de dicionário, sendo cada registro com a seguinte estrutra: <br>\n",
        "  registro = <b>{'linha': \"numero_linha\", <br>\n",
        "  'coluna': \"numero_coluna\", <br>\n",
        "  'valor': valor_ligacao}</b>\n",
        "</i>"
      ]
    },
    {
      "cell_type": "code",
      "metadata": {
        "id": "3U_ZljFpEyTx",
        "colab_type": "code",
        "colab": {}
      },
      "source": [
        "def verificar_iguais(lista):\n",
        "  i = 1\n",
        "  while i < len(lista) and (lista[0]['linha'] == lista[i]['linha'] and lista[0]['coluna'] == lista[i]['coluna']):\n",
        "    i += 1\n",
        "    \n",
        "  if i < len(lista):\n",
        "    return False\n",
        "  return True\n",
        "    "
      ],
      "execution_count": 0,
      "outputs": []
    },
    {
      "cell_type": "markdown",
      "metadata": {
        "id": "Y2JqYjljPpLd",
        "colab_type": "text"
      },
      "source": [
        "A seguinte função fica responsável por ir substituindo os valores nas tabelas, segue um exemplo:\n",
        " <table>\n",
        "  <thead>\n",
        "    <th>A</th>\n",
        "    <th>B</th>\n",
        "    <th>C</th>\n",
        "    <th>D</th>\n",
        "    <th>Par</th>\n",
        "  </thead>\n",
        "  \n",
        "  <tbody>\n",
        "    <tr>\n",
        "      <td>A</td>\n",
        "      <td>B</td>\n",
        "      <td>C</td>\n",
        "      <td>A</td>\n",
        "      <td>(A,D)</td>\n",
        "    </tr>\n",
        "  </tbody>\n",
        "</table>"
      ]
    },
    {
      "cell_type": "code",
      "metadata": {
        "id": "ayzM1rkeI6am",
        "colab_type": "code",
        "colab": {}
      },
      "source": [
        "def substituir_linhas_colunas(a, lin, col):\n",
        "    \n",
        "  for i in range(len(a)):\n",
        "    if a[i]['linha'] == lin or a[i]['linha'] == col:\n",
        "      a[i]['linha'] = lin\n",
        "    \n",
        "    if a[i]['coluna'] == lin or a[i]['coluna'] == col:\n",
        "      a[i]['coluna'] = lin\n",
        "      \n",
        "  return a"
      ],
      "execution_count": 0,
      "outputs": []
    },
    {
      "cell_type": "markdown",
      "metadata": {
        "id": "QKA2nFYOUlex",
        "colab_type": "text"
      },
      "source": [
        "Percorre a lista com os vértices e faz enquanto todos os itens não são iguais. Termina quando acontecer a seguinte situação: <br>\n",
        "\n",
        " <table>\n",
        "  <thead>\n",
        "    <th>A</th>\n",
        "    <th>B</th>\n",
        "    <th>C</th>\n",
        "    <th>D</th>\n",
        "    <th>Par</th>\n",
        "  </thead>\n",
        "  \n",
        "  <tbody>\n",
        "    <tr>\n",
        "      <td>A</td>\n",
        "      <td>A</td>\n",
        "      <td>A</td>\n",
        "      <td>A</td>\n",
        "      <td>(A,B)</td>\n",
        "    </tr>\n",
        "  </tbody>\n",
        "</table>"
      ]
    },
    {
      "cell_type": "code",
      "metadata": {
        "id": "8fVC216BJ0_K",
        "colab_type": "code",
        "colab": {}
      },
      "source": [
        "copia = copy.deepcopy(a) #Faz uma cópia da lista.\n",
        "lista_index = [] #lista que vai armazenar o índice de todos os pares que vão para a AGM\n",
        "i = 0 #contador\n",
        "while not verificar_iguais(a) and i < len(a):\n",
        "  if a[i]['linha'] != a[i]['coluna']: #Ter linha e coluna iguais significa que os vértices se encontram de outra forma que não seja diretamente.\n",
        "    lista_index.append(i)\n",
        "  a = substituir_linhas_colunas(a, a[i]['linha'], a[i]['coluna'])\n",
        "    \n",
        "  i += 1\n"
      ],
      "execution_count": 0,
      "outputs": []
    },
    {
      "cell_type": "markdown",
      "metadata": {
        "id": "FZhVHix8WJa6",
        "colab_type": "text"
      },
      "source": [
        "A partir da lista de índices pega os registros pertencentes a Árvore Mínima Gerada"
      ]
    },
    {
      "cell_type": "code",
      "metadata": {
        "id": "weVNtePlGae_",
        "colab_type": "code",
        "colab": {}
      },
      "source": [
        "agm_aux = []\n",
        "for i in range(len(lista_index)):\n",
        "  agm_aux.append(copia[lista_index[i]])"
      ],
      "execution_count": 0,
      "outputs": []
    },
    {
      "cell_type": "markdown",
      "metadata": {
        "id": "Y6mFPKfTWnL7",
        "colab_type": "text"
      },
      "source": [
        "A partir da AGM_AUX criada acima e do HEADER criado no inicio do código, gera a AGM com os valores nominais."
      ]
    },
    {
      "cell_type": "code",
      "metadata": {
        "id": "sGWbfjFkf55J",
        "colab_type": "code",
        "colab": {}
      },
      "source": [
        "temp = {}\n",
        "agm = []\n",
        "for i in range(len(agm_aux)):\n",
        "  temp = {\n",
        "     'linha': header[agm_aux[i]['linha']],\n",
        "     'coluna': header[agm_aux[i]['coluna']],\n",
        "     'valor': agm_aux[i]['valor']\n",
        " }\n",
        "  agm.append(temp)"
      ],
      "execution_count": 0,
      "outputs": []
    },
    {
      "cell_type": "markdown",
      "metadata": {
        "id": "5FpWGXbVWyGC",
        "colab_type": "text"
      },
      "source": [
        "Faz o somatório de todos os atributos 'valor' de cada registro da AGM. <br>\n",
        "<i>\n",
        "  PS. Explicando como esse for funciona:<br>\n",
        "  1. Faz de i = 0 até o tamanho total da lista AGM;\n",
        "  2. Pega o atributo valor a adiciona em uma lista genérica que não precisou ser definida.\n",
        "  3. Após isso, utiliza a função \"sum()\" do próprio Python para fazer o somatório da lista.\n",
        "</i>"
      ]
    },
    {
      "cell_type": "code",
      "metadata": {
        "id": "It6y3sThf6qL",
        "colab_type": "code",
        "colab": {}
      },
      "source": [
        "somatorio = sum([agm[i]['valor'] for i in range(len(agm))])"
      ],
      "execution_count": 0,
      "outputs": []
    },
    {
      "cell_type": "code",
      "metadata": {
        "id": "ns8RfEpTjEJT",
        "colab_type": "code",
        "colab": {}
      },
      "source": [
        "print('Custo: {}'.format(somatorio))\n",
        "print('Árvore mínima gerada:')\n",
        "agm"
      ],
      "execution_count": 0,
      "outputs": []
    },
    {
      "cell_type": "markdown",
      "metadata": {
        "id": "WC9Kl9DjK_YO",
        "colab_type": "text"
      },
      "source": [
        "##Referências\n",
        "\n"
      ]
    },
    {
      "cell_type": "markdown",
      "metadata": {
        "id": "GVmXTBQJVYh3",
        "colab_type": "text"
      },
      "source": [
        "Conteúdo visto em aula no dia 09 de outubro de 2019."
      ]
    },
    {
      "cell_type": "markdown",
      "metadata": {
        "id": "PIVrJHpOLw_b",
        "colab_type": "text"
      },
      "source": [
        "Algoritmo de Kruskal, 2017. Disponível em: < https://www.ime.usp.br/~pf/algoritmos_para_grafos/aulas/kruskal.html >. Acessado em: 18 de outubro de 2019."
      ]
    },
    {
      "cell_type": "markdown",
      "metadata": {
        "id": "-95-9CVDL_-A",
        "colab_type": "text"
      },
      "source": [
        "NATHAN, Thales. 2016. Disponível em:< https://gist.github.com/thbighead/5aac5a34352ed6655276c43900560f84 >. Acessado em: 18 de outubro de 2019. "
      ]
    }
  ]
}